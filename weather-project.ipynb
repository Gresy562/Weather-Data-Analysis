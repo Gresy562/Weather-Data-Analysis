{
 "cells": [
  {
   "cell_type": "markdown",
   "id": "f7fb2fb6-ec2d-4175-bc14-2343afe0bd12",
   "metadata": {},
   "source": [
    " STEP 1:- IMPORT LIBRARIES "
   ]
  },
  {
   "cell_type": "code",
   "execution_count": 1,
   "id": "3a36d5f8-6941-4a28-a933-8627778b3b16",
   "metadata": {},
   "outputs": [
    {
     "name": "stdout",
     "output_type": "stream",
     "text": [
      "Requirement already satisfied: pandas in c:\\users\\soujanya\\.conda\\envs\\spyder\\lib\\site-packages (2.3.2)\n",
      "Requirement already satisfied: numpy in c:\\users\\soujanya\\.conda\\envs\\spyder\\lib\\site-packages (2.3.3)\n",
      "Requirement already satisfied: matplotlib in c:\\users\\soujanya\\.conda\\envs\\spyder\\lib\\site-packages (3.10.6)\n",
      "Requirement already satisfied: seaborn in c:\\users\\soujanya\\.conda\\envs\\spyder\\lib\\site-packages (0.13.2)\n",
      "Requirement already satisfied: python-dateutil>=2.8.2 in c:\\users\\soujanya\\.conda\\envs\\spyder\\lib\\site-packages (from pandas) (2.9.0.post0)\n",
      "Requirement already satisfied: pytz>=2020.1 in c:\\users\\soujanya\\.conda\\envs\\spyder\\lib\\site-packages (from pandas) (2025.2)\n",
      "Requirement already satisfied: tzdata>=2022.7 in c:\\users\\soujanya\\.conda\\envs\\spyder\\lib\\site-packages (from pandas) (2025.2)\n",
      "Requirement already satisfied: contourpy>=1.0.1 in c:\\users\\soujanya\\.conda\\envs\\spyder\\lib\\site-packages (from matplotlib) (1.3.3)\n",
      "Requirement already satisfied: cycler>=0.10 in c:\\users\\soujanya\\.conda\\envs\\spyder\\lib\\site-packages (from matplotlib) (0.12.1)\n",
      "Requirement already satisfied: fonttools>=4.22.0 in c:\\users\\soujanya\\.conda\\envs\\spyder\\lib\\site-packages (from matplotlib) (4.60.0)\n",
      "Requirement already satisfied: kiwisolver>=1.3.1 in c:\\users\\soujanya\\.conda\\envs\\spyder\\lib\\site-packages (from matplotlib) (1.4.9)\n",
      "Requirement already satisfied: packaging>=20.0 in c:\\users\\soujanya\\.conda\\envs\\spyder\\lib\\site-packages (from matplotlib) (25.0)\n",
      "Requirement already satisfied: pillow>=8 in c:\\users\\soujanya\\.conda\\envs\\spyder\\lib\\site-packages (from matplotlib) (11.3.0)\n",
      "Requirement already satisfied: pyparsing>=2.3.1 in c:\\users\\soujanya\\.conda\\envs\\spyder\\lib\\site-packages (from matplotlib) (3.2.5)\n",
      "Requirement already satisfied: six>=1.5 in c:\\users\\soujanya\\.conda\\envs\\spyder\\lib\\site-packages (from python-dateutil>=2.8.2->pandas) (1.17.0)\n"
     ]
    }
   ],
   "source": [
    "!pip install pandas numpy matplotlib seaborn"
   ]
  },
  {
   "cell_type": "markdown",
   "id": "4b2a13c6-9fd4-4274-bb92-da640bdf385f",
   "metadata": {},
   "source": [
    "# Pandas: used for data manipulation and analysis\n",
    "#--- reading the dataset(csv,excel,etc--)\n",
    "#--- cleaning missing values\n",
    "#--- filtering, grouping and summarizing data"
   ]
  },
  {
   "cell_type": "code",
   "execution_count": 2,
   "id": "00edf7c4-93da-4d39-a20f-d43598011f53",
   "metadata": {},
   "outputs": [],
   "source": [
    "import pandas as pd"
   ]
  },
  {
   "cell_type": "markdown",
   "id": "ee44d044-09d4-415b-b902-02a61634fe62",
   "metadata": {},
   "source": [
    "# Numpy: used for numerical calculation\n",
    "#--- performing mathematical operations\n",
    "#--- handling array and matrices efficiently\n",
    "#--- useful for calculating mean,median,standard deviation, ect---"
   ]
  },
  {
   "cell_type": "markdown",
   "id": "16e3952a-2091-4356-b170-d3fa873956f1",
   "metadata": {},
   "source": [
    "# Numpy: used for numerical calculation\n",
    "#--- performing mathematical operations\n",
    "#--- handling array and matrices efficiently\n",
    "#--- useful for calculating mean,median,standard deviation, ect---"
   ]
  },
  {
   "cell_type": "markdown",
   "id": "14f1bc72-247c-4f92-8bb5-4bbaeb3d0ea6",
   "metadata": {},
   "source": [
    "# Numpy: used for numerical calculation\n",
    "#--- performing mathematical operations\n",
    "#--- handling array and matrices efficiently\n",
    "#--- useful for calculating mean,median,standard deviation, ect---"
   ]
  },
  {
   "cell_type": "code",
   "execution_count": 3,
   "id": "5499e871-da22-4c21-a18c-ddd41e2a5e7c",
   "metadata": {},
   "outputs": [],
   "source": [
    "import numpy as np"
   ]
  },
  {
   "cell_type": "markdown",
   "id": "50c9d0e6-1bc7-4149-99df-21ee88dbcccc",
   "metadata": {},
   "source": [
    "# Matplotlib: used for basic plotting(data visualization)\n",
    "#--- creating line charts,bar charts and histogram\n",
    "#--- customizing axis labels,titles and colors"
   ]
  },
  {
   "cell_type": "code",
   "execution_count": 4,
   "id": "01bab028-0a19-4741-bd7e-41f381e6c3b9",
   "metadata": {},
   "outputs": [],
   "source": [
    "import matplotlib.pyplot as plt"
   ]
  },
  {
   "cell_type": "markdown",
   "id": "4d7e9176-4d04-4ce0-87df-d3274ab4cc01",
   "metadata": {},
   "source": [
    "# Seaborn: built on top of matplotlib for(advanced data visualization)\n",
    "#--- easy-to-use function for statistical plots\n",
    "#--- creating heating,countplots and distribution plots\n",
    "#--- produces attractive and professional plots with minimal code"
   ]
  },
  {
   "cell_type": "code",
   "execution_count": 5,
   "id": "f18ff01a-9776-4f13-a8de-c7c955f2dc08",
   "metadata": {},
   "outputs": [],
   "source": [
    "import seaborn as sns"
   ]
  },
  {
   "cell_type": "markdown",
   "id": "27b11e5e-38fb-4fa0-a593-1bd3725a9b7b",
   "metadata": {},
   "source": [
    "STEP 2:- LOAD THE DATASET"
   ]
  },
  {
   "cell_type": "markdown",
   "id": "c1c07273-9a5a-42f9-beb5-e19f42fba863",
   "metadata": {},
   "source": [
    "# read data from csv file"
   ]
  },
  {
   "cell_type": "code",
   "execution_count": 8,
   "id": "4af70681-c6ed-461f-9f06-23b68f5f83ef",
   "metadata": {},
   "outputs": [],
   "source": [
    "df = pd.read_csv(r\"C:\\Users\\soujanya\\Downloads\\Weather_Data (1).csv\")"
   ]
  },
  {
   "cell_type": "markdown",
   "id": "57b24f3f-ebb1-4f11-a39a-13f75039da49",
   "metadata": {},
   "source": [
    " Here I loaded the dataset using `pandas` and displayed the first 5 rows with `.head()`.  \n",
    "This gives me an overview of the structure of the dataset."
   ]
  },
  {
   "cell_type": "markdown",
   "id": "0737ba36-b407-4daa-bf83-0d4589f81e5d",
   "metadata": {},
   "source": [
    "STEP 3:- EXPLORE THE DATASET"
   ]
  },
  {
   "cell_type": "markdown",
   "id": "b673747c-26c2-4113-b4d8-c56ffad43410",
   "metadata": {},
   "source": [
    "# display first 5 rows"
   ]
  },
  {
   "cell_type": "code",
   "execution_count": 6,
   "id": "5d08f138-247d-49cb-90cd-c6586d520d4f",
   "metadata": {},
   "outputs": [
    {
     "data": {
      "text/html": [
       "<div>\n",
       "<style scoped>\n",
       "    .dataframe tbody tr th:only-of-type {\n",
       "        vertical-align: middle;\n",
       "    }\n",
       "\n",
       "    .dataframe tbody tr th {\n",
       "        vertical-align: top;\n",
       "    }\n",
       "\n",
       "    .dataframe thead th {\n",
       "        text-align: right;\n",
       "    }\n",
       "</style>\n",
       "<table border=\"1\" class=\"dataframe\">\n",
       "  <thead>\n",
       "    <tr style=\"text-align: right;\">\n",
       "      <th></th>\n",
       "      <th>Date/Time</th>\n",
       "      <th>Temp_C</th>\n",
       "      <th>Dew Point Temp_C</th>\n",
       "      <th>Rel Hum_%</th>\n",
       "      <th>Wind Speed_km/h</th>\n",
       "      <th>Visibility_km</th>\n",
       "      <th>Press_kPa</th>\n",
       "      <th>Weather</th>\n",
       "    </tr>\n",
       "  </thead>\n",
       "  <tbody>\n",
       "    <tr>\n",
       "      <th>0</th>\n",
       "      <td>1/1/2012 0:00</td>\n",
       "      <td>-1.8</td>\n",
       "      <td>-3.9</td>\n",
       "      <td>86</td>\n",
       "      <td>4</td>\n",
       "      <td>8.0</td>\n",
       "      <td>101.24</td>\n",
       "      <td>Fog</td>\n",
       "    </tr>\n",
       "    <tr>\n",
       "      <th>1</th>\n",
       "      <td>1/1/2012 1:00</td>\n",
       "      <td>-1.8</td>\n",
       "      <td>-3.7</td>\n",
       "      <td>87</td>\n",
       "      <td>4</td>\n",
       "      <td>8.0</td>\n",
       "      <td>101.24</td>\n",
       "      <td>Fog</td>\n",
       "    </tr>\n",
       "    <tr>\n",
       "      <th>2</th>\n",
       "      <td>1/1/2012 2:00</td>\n",
       "      <td>-1.8</td>\n",
       "      <td>-3.4</td>\n",
       "      <td>89</td>\n",
       "      <td>7</td>\n",
       "      <td>4.0</td>\n",
       "      <td>101.26</td>\n",
       "      <td>Freezing Drizzle,Fog</td>\n",
       "    </tr>\n",
       "    <tr>\n",
       "      <th>3</th>\n",
       "      <td>1/1/2012 3:00</td>\n",
       "      <td>-1.5</td>\n",
       "      <td>-3.2</td>\n",
       "      <td>88</td>\n",
       "      <td>6</td>\n",
       "      <td>4.0</td>\n",
       "      <td>101.27</td>\n",
       "      <td>Freezing Drizzle,Fog</td>\n",
       "    </tr>\n",
       "    <tr>\n",
       "      <th>4</th>\n",
       "      <td>1/1/2012 4:00</td>\n",
       "      <td>-1.5</td>\n",
       "      <td>-3.3</td>\n",
       "      <td>88</td>\n",
       "      <td>7</td>\n",
       "      <td>4.8</td>\n",
       "      <td>101.23</td>\n",
       "      <td>Fog</td>\n",
       "    </tr>\n",
       "  </tbody>\n",
       "</table>\n",
       "</div>"
      ],
      "text/plain": [
       "       Date/Time  Temp_C  Dew Point Temp_C  Rel Hum_%  Wind Speed_km/h  \\\n",
       "0  1/1/2012 0:00    -1.8              -3.9         86                4   \n",
       "1  1/1/2012 1:00    -1.8              -3.7         87                4   \n",
       "2  1/1/2012 2:00    -1.8              -3.4         89                7   \n",
       "3  1/1/2012 3:00    -1.5              -3.2         88                6   \n",
       "4  1/1/2012 4:00    -1.5              -3.3         88                7   \n",
       "\n",
       "   Visibility_km  Press_kPa               Weather  \n",
       "0            8.0     101.24                   Fog  \n",
       "1            8.0     101.24                   Fog  \n",
       "2            4.0     101.26  Freezing Drizzle,Fog  \n",
       "3            4.0     101.27  Freezing Drizzle,Fog  \n",
       "4            4.8     101.23                   Fog  "
      ]
     },
     "execution_count": 6,
     "metadata": {},
     "output_type": "execute_result"
    }
   ],
   "source": [
    "df.head(5)"
   ]
  },
  {
   "cell_type": "markdown",
   "id": "5a501541-66e4-4bd7-9aab-e50267d2e6a1",
   "metadata": {},
   "source": [
    "# display last 5 rows"
   ]
  },
  {
   "cell_type": "code",
   "execution_count": 8,
   "id": "0f032970-2078-4fc2-badb-9be1f112ef1b",
   "metadata": {},
   "outputs": [
    {
     "data": {
      "text/html": [
       "<div>\n",
       "<style scoped>\n",
       "    .dataframe tbody tr th:only-of-type {\n",
       "        vertical-align: middle;\n",
       "    }\n",
       "\n",
       "    .dataframe tbody tr th {\n",
       "        vertical-align: top;\n",
       "    }\n",
       "\n",
       "    .dataframe thead th {\n",
       "        text-align: right;\n",
       "    }\n",
       "</style>\n",
       "<table border=\"1\" class=\"dataframe\">\n",
       "  <thead>\n",
       "    <tr style=\"text-align: right;\">\n",
       "      <th></th>\n",
       "      <th>Date/Time</th>\n",
       "      <th>Temp_C</th>\n",
       "      <th>Dew Point Temp_C</th>\n",
       "      <th>Rel Hum_%</th>\n",
       "      <th>Wind Speed_km/h</th>\n",
       "      <th>Visibility_km</th>\n",
       "      <th>Press_kPa</th>\n",
       "      <th>Weather</th>\n",
       "    </tr>\n",
       "  </thead>\n",
       "  <tbody>\n",
       "    <tr>\n",
       "      <th>8779</th>\n",
       "      <td>12/31/2012 19:00</td>\n",
       "      <td>0.1</td>\n",
       "      <td>-2.7</td>\n",
       "      <td>81</td>\n",
       "      <td>30</td>\n",
       "      <td>9.7</td>\n",
       "      <td>100.13</td>\n",
       "      <td>Snow</td>\n",
       "    </tr>\n",
       "    <tr>\n",
       "      <th>8780</th>\n",
       "      <td>12/31/2012 20:00</td>\n",
       "      <td>0.2</td>\n",
       "      <td>-2.4</td>\n",
       "      <td>83</td>\n",
       "      <td>24</td>\n",
       "      <td>9.7</td>\n",
       "      <td>100.03</td>\n",
       "      <td>Snow</td>\n",
       "    </tr>\n",
       "    <tr>\n",
       "      <th>8781</th>\n",
       "      <td>12/31/2012 21:00</td>\n",
       "      <td>-0.5</td>\n",
       "      <td>-1.5</td>\n",
       "      <td>93</td>\n",
       "      <td>28</td>\n",
       "      <td>4.8</td>\n",
       "      <td>99.95</td>\n",
       "      <td>Snow</td>\n",
       "    </tr>\n",
       "    <tr>\n",
       "      <th>8782</th>\n",
       "      <td>12/31/2012 22:00</td>\n",
       "      <td>-0.2</td>\n",
       "      <td>-1.8</td>\n",
       "      <td>89</td>\n",
       "      <td>28</td>\n",
       "      <td>9.7</td>\n",
       "      <td>99.91</td>\n",
       "      <td>Snow</td>\n",
       "    </tr>\n",
       "    <tr>\n",
       "      <th>8783</th>\n",
       "      <td>12/31/2012 23:00</td>\n",
       "      <td>0.0</td>\n",
       "      <td>-2.1</td>\n",
       "      <td>86</td>\n",
       "      <td>30</td>\n",
       "      <td>11.3</td>\n",
       "      <td>99.89</td>\n",
       "      <td>Snow</td>\n",
       "    </tr>\n",
       "  </tbody>\n",
       "</table>\n",
       "</div>"
      ],
      "text/plain": [
       "             Date/Time  Temp_C  Dew Point Temp_C  Rel Hum_%  Wind Speed_km/h  \\\n",
       "8779  12/31/2012 19:00     0.1              -2.7         81               30   \n",
       "8780  12/31/2012 20:00     0.2              -2.4         83               24   \n",
       "8781  12/31/2012 21:00    -0.5              -1.5         93               28   \n",
       "8782  12/31/2012 22:00    -0.2              -1.8         89               28   \n",
       "8783  12/31/2012 23:00     0.0              -2.1         86               30   \n",
       "\n",
       "      Visibility_km  Press_kPa Weather  \n",
       "8779            9.7     100.13    Snow  \n",
       "8780            9.7     100.03    Snow  \n",
       "8781            4.8      99.95    Snow  \n",
       "8782            9.7      99.91    Snow  \n",
       "8783           11.3      99.89    Snow  "
      ]
     },
     "execution_count": 8,
     "metadata": {},
     "output_type": "execute_result"
    }
   ],
   "source": [
    "df.tail(5)"
   ]
  },
  {
   "cell_type": "markdown",
   "id": "bd9b2a14-5605-4806-bf0a-c2498e00563c",
   "metadata": {},
   "source": [
    "# display shape of the dataset"
   ]
  },
  {
   "cell_type": "code",
   "execution_count": 9,
   "id": "fc62dcf8-e042-478f-86fb-c23beeebe7dc",
   "metadata": {},
   "outputs": [
    {
     "data": {
      "text/plain": [
       "(8784, 8)"
      ]
     },
     "execution_count": 9,
     "metadata": {},
     "output_type": "execute_result"
    }
   ],
   "source": [
    "df.shape"
   ]
  },
  {
   "cell_type": "markdown",
   "id": "89f92771-95fd-4eb0-864b-dfeddb865f26",
   "metadata": {},
   "source": [
    "# display columns"
   ]
  },
  {
   "cell_type": "code",
   "execution_count": 10,
   "id": "fbe7a678-7390-4d01-a49f-f3437d964387",
   "metadata": {},
   "outputs": [
    {
     "data": {
      "text/plain": [
       "Index(['Date/Time', 'Temp_C', 'Dew Point Temp_C', 'Rel Hum_%',\n",
       "       'Wind Speed_km/h', 'Visibility_km', 'Press_kPa', 'Weather'],\n",
       "      dtype='object')"
      ]
     },
     "execution_count": 10,
     "metadata": {},
     "output_type": "execute_result"
    }
   ],
   "source": [
    "df.columns"
   ]
  },
  {
   "cell_type": "markdown",
   "id": "01de2eb5-36b0-40e9-b0d6-cd5aa2fd69fa",
   "metadata": {},
   "source": [
    "# display datatype"
   ]
  },
  {
   "cell_type": "code",
   "execution_count": 11,
   "id": "13027e60-8294-4e63-be5e-a279a5acda22",
   "metadata": {},
   "outputs": [
    {
     "data": {
      "text/plain": [
       "Date/Time            object\n",
       "Temp_C              float64\n",
       "Dew Point Temp_C    float64\n",
       "Rel Hum_%             int64\n",
       "Wind Speed_km/h       int64\n",
       "Visibility_km       float64\n",
       "Press_kPa           float64\n",
       "Weather              object\n",
       "dtype: object"
      ]
     },
     "execution_count": 11,
     "metadata": {},
     "output_type": "execute_result"
    }
   ],
   "source": [
    "df.dtypes"
   ]
  },
  {
   "cell_type": "markdown",
   "id": "7aad20b1-6799-4d26-917b-16979019c1e6",
   "metadata": {},
   "source": [
    "# display missing value count"
   ]
  },
  {
   "cell_type": "code",
   "execution_count": 13,
   "id": "703f3a6c-95ab-4c69-9e84-a02ad33c8e53",
   "metadata": {},
   "outputs": [
    {
     "data": {
      "text/plain": [
       "Date/Time           8784\n",
       "Temp_C              8784\n",
       "Dew Point Temp_C    8784\n",
       "Rel Hum_%           8784\n",
       "Wind Speed_km/h     8784\n",
       "Visibility_km       8784\n",
       "Press_kPa           8784\n",
       "Weather             8784\n",
       "dtype: int64"
      ]
     },
     "execution_count": 13,
     "metadata": {},
     "output_type": "execute_result"
    }
   ],
   "source": [
    "df.count()"
   ]
  },
  {
   "cell_type": "markdown",
   "id": "51849dec-39d7-471b-8083-e487923138ee",
   "metadata": {},
   "source": [
    "# display unique weather condition"
   ]
  },
  {
   "cell_type": "code",
   "execution_count": 14,
   "id": "264a0375-9ba1-4a19-a31e-9df62844fb54",
   "metadata": {},
   "outputs": [
    {
     "data": {
      "text/plain": [
       "array(['Fog', 'Freezing Drizzle,Fog', 'Mostly Cloudy', 'Cloudy', 'Rain',\n",
       "       'Rain Showers', 'Mainly Clear', 'Snow Showers', 'Snow', 'Clear',\n",
       "       'Freezing Rain,Fog', 'Freezing Rain', 'Freezing Drizzle',\n",
       "       'Rain,Snow', 'Moderate Snow', 'Freezing Drizzle,Snow',\n",
       "       'Freezing Rain,Snow Grains', 'Snow,Blowing Snow', 'Freezing Fog',\n",
       "       'Haze', 'Rain,Fog', 'Drizzle,Fog', 'Drizzle',\n",
       "       'Freezing Drizzle,Haze', 'Freezing Rain,Haze', 'Snow,Haze',\n",
       "       'Snow,Fog', 'Snow,Ice Pellets', 'Rain,Haze', 'Thunderstorms,Rain',\n",
       "       'Thunderstorms,Rain Showers', 'Thunderstorms,Heavy Rain Showers',\n",
       "       'Thunderstorms,Rain Showers,Fog', 'Thunderstorms',\n",
       "       'Thunderstorms,Rain,Fog',\n",
       "       'Thunderstorms,Moderate Rain Showers,Fog', 'Rain Showers,Fog',\n",
       "       'Rain Showers,Snow Showers', 'Snow Pellets', 'Rain,Snow,Fog',\n",
       "       'Moderate Rain,Fog', 'Freezing Rain,Ice Pellets,Fog',\n",
       "       'Drizzle,Ice Pellets,Fog', 'Drizzle,Snow', 'Rain,Ice Pellets',\n",
       "       'Drizzle,Snow,Fog', 'Rain,Snow Grains', 'Rain,Snow,Ice Pellets',\n",
       "       'Snow Showers,Fog', 'Moderate Snow,Blowing Snow'], dtype=object)"
      ]
     },
     "execution_count": 14,
     "metadata": {},
     "output_type": "execute_result"
    }
   ],
   "source": [
    "df.Weather.unique()"
   ]
  },
  {
   "cell_type": "markdown",
   "id": "2c4651fe-d744-4e8c-b0a1-b0b774654015",
   "metadata": {},
   "source": [
    "# display number of unique values in each column"
   ]
  },
  {
   "cell_type": "code",
   "execution_count": 15,
   "id": "08f18e10-91c4-4728-ab41-c5a6beaea876",
   "metadata": {},
   "outputs": [
    {
     "data": {
      "text/plain": [
       "Date/Time           8784\n",
       "Temp_C               533\n",
       "Dew Point Temp_C     489\n",
       "Rel Hum_%             83\n",
       "Wind Speed_km/h       34\n",
       "Visibility_km         24\n",
       "Press_kPa            518\n",
       "Weather               50\n",
       "dtype: int64"
      ]
     },
     "execution_count": 15,
     "metadata": {},
     "output_type": "execute_result"
    }
   ],
   "source": [
    "df.nunique()"
   ]
  },
  {
   "cell_type": "markdown",
   "id": "a60ed735-7ab4-44a5-b376-cb80ba79ab8c",
   "metadata": {},
   "source": [
    "# display frequency of weather condition"
   ]
  },
  {
   "cell_type": "code",
   "execution_count": 18,
   "id": "7d8a15cc-0dfe-4bbd-96f7-73b90eeb4271",
   "metadata": {},
   "outputs": [
    {
     "data": {
      "text/plain": [
       "Weather\n",
       "Mainly Clear                               2106\n",
       "Mostly Cloudy                              2069\n",
       "Cloudy                                     1728\n",
       "Clear                                      1326\n",
       "Snow                                        390\n",
       "Rain                                        306\n",
       "Rain Showers                                188\n",
       "Fog                                         150\n",
       "Rain,Fog                                    116\n",
       "Drizzle,Fog                                  80\n",
       "Snow Showers                                 60\n",
       "Drizzle                                      41\n",
       "Snow,Fog                                     37\n",
       "Snow,Blowing Snow                            19\n",
       "Rain,Snow                                    18\n",
       "Thunderstorms,Rain Showers                   16\n",
       "Haze                                         16\n",
       "Drizzle,Snow,Fog                             15\n",
       "Freezing Rain                                14\n",
       "Freezing Drizzle,Snow                        11\n",
       "Freezing Drizzle                              7\n",
       "Freezing Drizzle,Fog                          6\n",
       "Snow,Ice Pellets                              6\n",
       "Snow,Haze                                     5\n",
       "Freezing Rain,Fog                             4\n",
       "Moderate Snow                                 4\n",
       "Rain,Snow,Ice Pellets                         4\n",
       "Freezing Fog                                  4\n",
       "Snow Showers,Fog                              4\n",
       "Thunderstorms,Rain Showers,Fog                3\n",
       "Thunderstorms,Rain                            3\n",
       "Freezing Drizzle,Haze                         3\n",
       "Rain,Haze                                     3\n",
       "Drizzle,Snow                                  2\n",
       "Moderate Snow,Blowing Snow                    2\n",
       "Thunderstorms                                 2\n",
       "Freezing Rain,Haze                            2\n",
       "Rain Showers,Snow Showers                     2\n",
       "Freezing Rain,Snow Grains                     1\n",
       "Thunderstorms,Heavy Rain Showers              1\n",
       "Thunderstorms,Moderate Rain Showers,Fog       1\n",
       "Thunderstorms,Rain,Fog                        1\n",
       "Freezing Rain,Ice Pellets,Fog                 1\n",
       "Moderate Rain,Fog                             1\n",
       "Rain,Snow,Fog                                 1\n",
       "Snow Pellets                                  1\n",
       "Rain Showers,Fog                              1\n",
       "Drizzle,Ice Pellets,Fog                       1\n",
       "Rain,Ice Pellets                              1\n",
       "Rain,Snow Grains                              1\n",
       "Name: count, dtype: int64"
      ]
     },
     "execution_count": 18,
     "metadata": {},
     "output_type": "execute_result"
    }
   ],
   "source": [
    "df['Weather'].value_counts()"
   ]
  },
  {
   "cell_type": "markdown",
   "id": "40c495ec-b8bc-4173-bf94-e5e17ee37a03",
   "metadata": {},
   "source": [
    "✔️ Here I explored the dataset to check:  \n",
    "- The size of the dataset (`.shape`)  \n",
    "- Column names and data types (`.columns`, `.dtypes`)  \n",
    "- Unique weather conditions and their frequency (`.unique()`, `.value_counts()`)  \n",
    "This helps me understand what kind of data I’m working with."
   ]
  },
  {
   "cell_type": "markdown",
   "id": "66477a43-4403-40c7-b666-7e9007c8418f",
   "metadata": {},
   "source": [
    "STEP 4:- VISUALIZATION"
   ]
  },
  {
   "cell_type": "markdown",
   "id": "05a7cadd-70bb-43df-add7-683a1a81900e",
   "metadata": {},
   "source": [
    "# Top 10 weather conditions"
   ]
  },
  {
   "cell_type": "code",
   "execution_count": 14,
   "id": "a3c01d95-2bfd-4150-a98d-f4dd797fe872",
   "metadata": {},
   "outputs": [
    {
     "data": {
      "image/png": "[encoded data removed]",
      "text/plain": [
       "<Figure size 1000x600 with 1 Axes>"
      ]
     },
     "metadata": {},
     "output_type": "display_data"
    }
   ],
   "source": [
    "plt.figure(figsize=(10,6))\n",
    "sns.countplot(\n",
    "    y=\"Weather\", \n",
    "    data=df, \n",
    "    order=df['Weather'].value_counts().index[:10], \n",
    "    hue=\"Weather\", \n",
    "    palette=\"viridis\", \n",
    "    legend=False\n",
    ")\n",
    "plt.title(\"Top 10 Weather Conditions in 2012\")\n",
    "plt.xlabel(\"Count\")\n",
    "plt.ylabel(\"Weather Condition\")\n",
    "plt.show()"
   ]
  },
  {
   "cell_type": "markdown",
   "id": "9eb23923-a797-4528-834f-7f34d26a6e08",
   "metadata": {},
   "source": [
    "# Temperature distribution "
   ]
  },
  {
   "cell_type": "code",
   "execution_count": 19,
   "id": "1627b6ee-2038-49fa-879c-af7049019b15",
   "metadata": {},
   "outputs": [
    {
     "data": {
      "image/png": "[encoded data removed]",
      "text/plain": [
       "<Figure size 1000x600 with 1 Axes>"
      ]
     },
     "metadata": {},
     "output_type": "display_data"
    }
   ],
   "source": [
    "plt.figure(figsize=(10,6))\n",
    "sns.histplot(df['Temp_C'], bins=40, kde=True, color=\"orange\",edgecolor=\"skyblue\")\n",
    "plt.title(\"Temperature Distribution in 2012\")\n",
    "plt.xlabel(\"Temperature (°C)\")\n",
    "plt.ylabel(\"Frequency\")\n",
    "plt.show()"
   ]
  },
  {
   "cell_type": "markdown",
   "id": "3710a219-a0f7-4a61-a35c-cd7e95c2657f",
   "metadata": {},
   "source": [
    "# correlation heatmap"
   ]
  },
  {
   "cell_type": "code",
   "execution_count": 20,
   "id": "a03efcdd-2855-40dc-9f5c-82b7725df008",
   "metadata": {},
   "outputs": [
    {
     "data": {
      "image/png": "[encoded data removed]",
      "text/plain": [
       "<Figure size 1000x600 with 2 Axes>"
      ]
     },
     "metadata": {},
     "output_type": "display_data"
    }
   ],
   "source": [
    "plt.figure(figsize=(10,6))\n",
    "sns.heatmap(df.select_dtypes(include='number').corr(), annot=True, cmap=\"coolwarm\", fmt=\".2f\")\n",
    "plt.title(\"Correlation Heatmap of Weather Data\")\n",
    "plt.show()"
   ]
  },
  {
   "cell_type": "code",
   "execution_count": null,
   "id": "2e57c677-2ede-42ed-bb19-2d7dc77f63d2",
   "metadata": {},
   "outputs": [],
   "source": []
  }
 ],
 "metadata": {
  "kernelspec": {
   "display_name": "Python 3 (ipykernel)",
   "language": "python",
   "name": "python3"
  },
  "language_info": {
   "codemirror_mode": {
    "name": "ipython",
    "version": 3
   },
   "file_extension": ".py",
   "mimetype": "text/x-python",
   "name": "python",
   "nbconvert_exporter": "python",
   "pygments_lexer": "ipython3",
   "version": "3.13.7"
  }
 },
 "nbformat": 4,
 "nbformat_minor": 5
}
